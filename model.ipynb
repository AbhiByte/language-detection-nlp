{
 "cells": [
  {
   "cell_type": "code",
   "execution_count": 2,
   "metadata": {},
   "outputs": [],
   "source": [
    "import numpy as np\n",
    "import pandas as pd\n",
    "from sklearn.model_selection import train_test_split\n",
    "from sklearn.feature_extraction.text import CountVectorizer\n",
    "from sklearn.naive_bayes import MultinomialNB\n",
    "from sklearn.metrics import accuracy_score, confusion_matrix, classification_report\n",
    "from sklearn.linear_model import SGDClassifier\n",
    "import matplotlib.pyplot as plt\n",
    "import seaborn"
   ]
  },
  {
   "cell_type": "code",
   "execution_count": 3,
   "metadata": {},
   "outputs": [
    {
     "name": "stdout",
     "output_type": "stream",
     "text": [
      "                                                Text Language\n",
      "0   Nature, in the broadest sense, is the natural...  English\n",
      "1  \"Nature\" can refer to the phenomena of the phy...  English\n",
      "2  The study of nature is a large, if not the onl...  English\n",
      "3  Although humans are part of nature, human acti...  English\n",
      "4  [1] The word nature is borrowed from the Old F...  English\n"
     ]
    }
   ],
   "source": [
    "df = pd.read_csv('data/Language Detection.csv')\n",
    "print(df.head())"
   ]
  },
  {
   "cell_type": "code",
   "execution_count": 4,
   "metadata": {},
   "outputs": [],
   "source": [
    "cv = CountVectorizer()\n",
    "x = np.array(df[\"Text\"]) \n",
    "X = cv.fit_transform(x)\n",
    "y = np.array(df[\"Language\"])\n",
    "\n",
    "X_train, X_test, y_train, y_test = train_test_split(X, y, test_size = 0.2, random_state=45)"
   ]
  },
  {
   "cell_type": "code",
   "execution_count": 5,
   "metadata": {},
   "outputs": [
    {
     "name": "stdout",
     "output_type": "stream",
     "text": [
      "accuracy 0.9796905222437138\n",
      "accuracy 0.9617988394584139\n"
     ]
    }
   ],
   "source": [
    "#Model 1\n",
    "mNB_model = MultinomialNB()\n",
    "mNB_model.fit(X_train, y_train)\n",
    "y_pred_mnb = mNB_model.predict(X_test)\n",
    "acc_score_mnb = accuracy_score(y_pred_mnb, y_test)\n",
    "cm_mnb = confusion_matrix(y_test, y_pred_mnb)\n",
    "print('accuracy mnb:  %s' % acc_score_mnb)\n",
    "\n",
    "#Model 2\n",
    "SGD_model = SGDClassifier()\n",
    "SGD_model.fit(X_train, y_train)\n",
    "y_pred_sgd = SGD_model.predict(X_test)\n",
    "acc_score_sgd = accuracy_score(y_pred_sgd, y_test)\n",
    "cm_sgd = confusion_matrix(y_test, y_pred_sgd)\n",
    "print('accuracy  %s' % acc_score_sgd)"
   ]
  }
 ],
 "metadata": {
  "kernelspec": {
   "display_name": "Python 3",
   "language": "python",
   "name": "python3"
  },
  "language_info": {
   "codemirror_mode": {
    "name": "ipython",
    "version": 3
   },
   "file_extension": ".py",
   "mimetype": "text/x-python",
   "name": "python",
   "nbconvert_exporter": "python",
   "pygments_lexer": "ipython3",
   "version": "3.10.4"
  },
  "orig_nbformat": 4
 },
 "nbformat": 4,
 "nbformat_minor": 2
}
